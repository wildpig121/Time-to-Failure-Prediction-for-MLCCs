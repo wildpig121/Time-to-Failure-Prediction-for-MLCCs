{
 "cells": [
  {
   "cell_type": "code",
   "execution_count": 2,
   "metadata": {},
   "outputs": [
    {
     "name": "stdout",
     "output_type": "stream",
     "text": [
      "r2_test汇总结果已保存到 C:\\Users\\12152\\Desktop\\MLCC寿命预测模型\\时间序列\\时间序列3.5\\3_feature_selection\\rf\\r2_test_evaluation.csv\n",
      "rmse_test汇总结果已保存到 C:\\Users\\12152\\Desktop\\MLCC寿命预测模型\\时间序列\\时间序列3.5\\3_feature_selection\\rf\\rmse_test_evaluation.csv\n"
     ]
    }
   ],
   "source": [
    "import os\n",
    "import pandas as pd\n",
    "\n",
    "# 定义输入和输出目录\n",
    "input_dir = r\"C:\\Users\\12152\\Desktop\\MLCC寿命预测模型\\时间序列\\时间序列3.5\\3_feature_selection\\rf\\feature_combination_r2_result\"\n",
    "output_dir = r\"C:\\Users\\12152\\Desktop\\MLCC寿命预测模型\\时间序列\\时间序列3.5\\3_feature_selection\\rf\"\n",
    "\n",
    "# 创建一个空的DataFrame来存储汇总数据\n",
    "summary_df = pd.DataFrame()\n",
    "\n",
    "# 遍历输入文件夹中的所有CSV文件\n",
    "for file_name in os.listdir(input_dir):\n",
    "    if file_name.endswith(\".csv\"):\n",
    "        # 读取每个CSV文件\n",
    "        file_path = os.path.join(input_dir, file_name)\n",
    "        df = pd.read_csv(file_path)\n",
    "        \n",
    "        # 提取特征组合的信息\n",
    "        feature_combination = file_name.replace(\"_results.csv\", \"\")\n",
    "        feature_count = feature_combination.count('+') + 1\n",
    "        \n",
    "        # 添加特征组合和特征数量到DataFrame\n",
    "        df['feature_combination'] = feature_combination\n",
    "        df['feature_count'] = feature_count\n",
    "        \n",
    "        # 将当前DataFrame添加到汇总的DataFrame中\n",
    "        summary_df = pd.concat([summary_df, df], ignore_index=True)\n",
    "\n",
    "# 按特征数量从小到大排序\n",
    "summary_df = summary_df.sort_values(by='feature_count')\n",
    "\n",
    "# 分别提取r2_test和rmse_test的数据\n",
    "r2_test_df = summary_df[summary_df['metric'] == 'r2_test']\n",
    "rmse_test_df = summary_df[summary_df['metric'] == 'rmse_test']\n",
    "\n",
    "# 保存r2_test的结果到一个新的CSV文件\n",
    "r2_test_file_path = os.path.join(output_dir, \"r2_test_evaluation.csv\")\n",
    "r2_test_df.to_csv(r2_test_file_path, index=False)\n",
    "\n",
    "# 保存rmse_test的结果到一个新的CSV文件\n",
    "rmse_test_file_path = os.path.join(output_dir, \"rmse_test_evaluation.csv\")\n",
    "rmse_test_df.to_csv(rmse_test_file_path, index=False)\n",
    "\n",
    "print(f\"r2_test汇总结果已保存到 {r2_test_file_path}\")\n",
    "print(f\"rmse_test汇总结果已保存到 {rmse_test_file_path}\")\n",
    "\n"
   ]
  }
 ],
 "metadata": {
  "kernelspec": {
   "display_name": "base",
   "language": "python",
   "name": "python3"
  },
  "language_info": {
   "codemirror_mode": {
    "name": "ipython",
    "version": 3
   },
   "file_extension": ".py",
   "mimetype": "text/x-python",
   "name": "python",
   "nbconvert_exporter": "python",
   "pygments_lexer": "ipython3",
   "version": "3.11.5"
  }
 },
 "nbformat": 4,
 "nbformat_minor": 2
}
